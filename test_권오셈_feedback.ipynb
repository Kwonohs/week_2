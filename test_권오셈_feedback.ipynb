{
 "cells": [
  {
   "cell_type": "code",
   "execution_count": 4,
   "metadata": {},
   "outputs": [
    {
     "ename": "ValueError",
     "evalue": "invalid literal for int() with base 10: ''",
     "output_type": "error",
     "traceback": [
      "\u001b[1;31m---------------------------------------------------------------------------\u001b[0m",
      "\u001b[1;31mValueError\u001b[0m                                Traceback (most recent call last)",
      "Cell \u001b[1;32mIn[4], line 2\u001b[0m\n\u001b[0;32m      1\u001b[0m \u001b[38;5;66;03m#1.\u001b[39;00m\n\u001b[1;32m----> 2\u001b[0m \u001b[38;5;28mprint\u001b[39m(\u001b[38;5;28mint\u001b[39m(\u001b[38;5;28minput\u001b[39m()) \u001b[38;5;241m*\u001b[39m \u001b[38;5;28mint\u001b[39m(\u001b[38;5;28minput\u001b[39m()))\n",
      "\u001b[1;31mValueError\u001b[0m: invalid literal for int() with base 10: ''"
     ]
    }
   ],
   "source": [
    "#1.\n",
    "print(int(input()) * int(input()))      # 입력을 input 두 번으로 나눠받아도 되나\n",
    "                                        # 여러 입력값을 한 번에 받는 방법을 사용하는 것을 권장\n",
    "                                        # 값이 100개라고 하면 현재 방식은 대응이 어려움\n",
    "\n",
    "\n",
    "                                        #문제해결\n",
    "                                        \n",
    "\n",
    "\n",
    "\n"
   ]
  },
  {
   "cell_type": "code",
   "execution_count": 8,
   "metadata": {},
   "outputs": [
    {
     "name": "stdout",
     "output_type": "stream",
     "text": [
      "helloworldhelloworldhelloworld\n"
     ]
    }
   ],
   "source": [
    "#2.\n",
    "a, b = input().split()\n",
    "print(int(a) * b)"
   ]
  },
  {
   "cell_type": "code",
   "execution_count": 7,
   "metadata": {},
   "outputs": [
    {
     "ename": "ValueError",
     "evalue": "invalid literal for int() with base 10: ''",
     "output_type": "error",
     "traceback": [
      "\u001b[1;31m---------------------------------------------------------------------------\u001b[0m",
      "\u001b[1;31mValueError\u001b[0m                                Traceback (most recent call last)",
      "Cell \u001b[1;32mIn[7], line 2\u001b[0m\n\u001b[0;32m      1\u001b[0m \u001b[38;5;66;03m#3.\u001b[39;00m\n\u001b[1;32m----> 2\u001b[0m num \u001b[38;5;241m=\u001b[39m \u001b[38;5;28mint\u001b[39m(\u001b[38;5;28minput\u001b[39m())\n\u001b[0;32m      3\u001b[0m lis \u001b[38;5;241m=\u001b[39m []\n\u001b[0;32m      4\u001b[0m \u001b[38;5;28;01mfor\u001b[39;00m i \u001b[38;5;129;01min\u001b[39;00m \u001b[38;5;28mrange\u001b[39m(num):\n",
      "\u001b[1;31mValueError\u001b[0m: invalid literal for int() with base 10: ''"
     ]
    }
   ],
   "source": [
    "#3.\n",
    "num = int(input())\n",
    "lis = []\n",
    "for i in range(num):                    # i가 for 내에서 사용하지 않으면 _ 사용 권장\n",
    "                                        # 현재 구조는 만약 num이 3일 때,\n",
    "                                        # 1, 1, 2를 입력하면 리스트의 값은 두 개가 됨\n",
    "                                        # 중복 없이 3개의 값을 채우는 게 문제\n",
    "    if num not in lis:\n",
    "        lis.append(int(input()))"
   ]
  },
  {
   "cell_type": "code",
   "execution_count": 15,
   "metadata": {},
   "outputs": [
    {
     "ename": "IndexError",
     "evalue": "list index out of range",
     "output_type": "error",
     "traceback": [
      "\u001b[1;31m---------------------------------------------------------------------------\u001b[0m",
      "\u001b[1;31mIndexError\u001b[0m                                Traceback (most recent call last)",
      "Cell \u001b[1;32mIn[15], line 4\u001b[0m\n\u001b[0;32m      2\u001b[0m lis \u001b[38;5;241m=\u001b[39m \u001b[38;5;28mlist\u001b[39m(\u001b[38;5;28mmap\u001b[39m(\u001b[38;5;28mint\u001b[39m, \u001b[38;5;28minput\u001b[39m()\u001b[38;5;241m.\u001b[39msplit()))\n\u001b[0;32m      3\u001b[0m lis \u001b[38;5;241m=\u001b[39m (lis)\n\u001b[1;32m----> 4\u001b[0m Max \u001b[38;5;241m=\u001b[39m lis[\u001b[38;5;241m0\u001b[39m]\n\u001b[0;32m      5\u001b[0m \u001b[38;5;28;01mfor\u001b[39;00m i \u001b[38;5;129;01min\u001b[39;00m lis:\n\u001b[0;32m      6\u001b[0m     \u001b[38;5;28;01mif\u001b[39;00m Max \u001b[38;5;241m<\u001b[39m i:\n",
      "\u001b[1;31mIndexError\u001b[0m: list index out of range"
     ]
    }
   ],
   "source": [
    "#4.\n",
    "lis = list(map(int, input().split()))\n",
    "lis = (lis)         # 의도를 모르겠으나 tuple 변환 시 tuple을 사용해야 함\n",
    "Max = lis[0]        # 변수 명은 snake 권장\n",
    "for i in lis:\n",
    "    if Max < i:\n",
    "        Max = i\n",
    "\n",
    "print(Max)          # sorted를 활용한 문제 해결 추천\n"
   ]
  },
  {
   "cell_type": "code",
   "execution_count": 27,
   "metadata": {},
   "outputs": [
    {
     "name": "stdout",
     "output_type": "stream",
     "text": [
      "{'': ''}\n"
     ]
    }
   ],
   "source": [
    "#5.\n",
    "\n",
    "a = {input() : input(), input() : input(), input() : input()}   # 이러한 코드의 가독성이 좋지는 못 함\n",
    "b = {input() : input(), input() : input(), input() : input()}   # 반복문되는 현상을 최대한 코드화 하는 것이 핵심\n",
    "                                                                # 위와 마찬가지로 100번 반복의 경우 해당 코드는 대응 불가\n",
    "a.update(b)\n",
    "print(a)"
   ]
  },
  {
   "cell_type": "code",
   "execution_count": 29,
   "metadata": {},
   "outputs": [
    {
     "name": "stdout",
     "output_type": "stream",
     "text": [
      "정답입니다.\n"
     ]
    }
   ],
   "source": [
    "#6.\n",
    "\n",
    "num = 21\n",
    "for i in range(3):\n",
    "    answer = int(input())\n",
    "    if answer == num:\n",
    "        print('정답입니다.')\n",
    "        break\n",
    "    "
   ]
  },
  {
   "cell_type": "code",
   "execution_count": 4,
   "metadata": {},
   "outputs": [
    {
     "name": "stdout",
     "output_type": "stream",
     "text": [
      "대칭\n"
     ]
    }
   ],
   "source": [
    "#7.\n",
    "\n",
    "num = input()\n",
    "half = len(num) - (len(num) // 2)\n",
    "for i in range(half):\n",
    "    a = -i-1\n",
    "    if num[i] == num[a]:\n",
    "        if a == i:\n",
    "            continue\n",
    "        half += 1\n",
    "        \n",
    "    else:\n",
    "        break\n",
    "\n",
    "if len(num) % 2 == 0:\n",
    "    if half == len(num):\n",
    "        print(\"대칭\")\n",
    "    else:\n",
    "        print(\"비대칭\")\n",
    "\n",
    "else:\n",
    "    if half >= len(num):\n",
    "        print(\"대칭\")\n",
    "    else:\n",
    "        print(\"비대칭\")\n"
   ]
  },
  {
   "cell_type": "code",
   "execution_count": null,
   "metadata": {},
   "outputs": [],
   "source": [
    "#8.\n",
    "a = int(inptu())        # 오타 주의\n",
    "\n",
    "if a >= 90:\n",
    "    print(\"A\")\n",
    "elif a >= 70:\n",
    "    print(\"B\")\n",
    "else:\n",
    "    print('C')"
   ]
  },
  {
   "cell_type": "code",
   "execution_count": 77,
   "metadata": {},
   "outputs": [
    {
     "name": "stdout",
     "output_type": "stream",
     "text": [
      "0.1\n",
      "0.2\n",
      "0.3\n",
      "0.1\n",
      "0.2\n",
      "0.2\n"
     ]
    }
   ],
   "source": [
    "#9.\n",
    "class Car:\n",
    "    def __init__(self, height, width, weight):\n",
    "        self.height = height\n",
    "        self.width = width\n",
    "        self.weight = weight\n",
    "\n",
    "\n",
    "    def accel(self):\n",
    "        print(self.accel_padal_angle / 100)\n",
    "\n",
    "    def break_(self):\n",
    "        print(self.break_padal_angle / self.weight)\n",
    "\n",
    "\n",
    "class Hyundai(Car):\n",
    "    def __init__(self, height, width, weight, accel_padal_angle, break_padal_angle):\n",
    "        super().__init__(height, width, weight)\n",
    "        self.accel_padal_angle = accel_padal_angle\n",
    "        self.break_padal_angle = break_padal_angle\n",
    "\n",
    "    def accel(self):                            # 부모클래스에서 정의된 method에서 변경이 없으면\n",
    "                                                # 아래에서 overriding을 할 이유가 없음\n",
    "        print(self.accel_padal_angle / 100)\n",
    "\n",
    "    def break_(self):\n",
    "        print(self.break_padal_angle / self.weight)\n",
    "\n",
    "\n",
    "class Kia(Car):\n",
    "    def __init__(self, height, width, weight, accel_padal_angle, break_padal_angle):\n",
    "        super().__init__(height, width, weight)\n",
    "        self.accel_padal_angle = accel_padal_angle\n",
    "        self.break_padal_angle = break_padal_angle\n",
    "\n",
    "    def accel(self):\n",
    "        print(self.accel_padal_angle / 100)\n",
    "\n",
    "    def break_(self):\n",
    "        print(self.break_padal_angle / self.weight)\n",
    "\n",
    "\n",
    "genesis, grandeur, sonata = Hyundai(10,10,10,10,10), Hyundai(10,10,10,20,20), Hyundai(10,10,10,30,30)\n",
    "K9, K7, K5 = Kia(10,10,10,10,10), Kia(10,10,10,20,20), Kia(10,10,10,20,20)\n",
    "\n",
    "lis = [genesis, grandeur, sonata, K9, K7, K5]\n",
    "for i in lis:\n",
    "    i.accel()       # list 내의 객체의 accel과 break를 사용할 수 있는 함수를 만드는 것이 문제 목표\n",
    "\n",
    "    "
   ]
  },
  {
   "cell_type": "code",
   "execution_count": 2,
   "metadata": {},
   "outputs": [
    {
     "data": {
      "text/plain": [
       "'asdasdasdasdasdasdasdasdasdasdasdasdasdasdasdasdasdasdasdasdasdasdasdasdasdasdasdasdasdasdasdasdasdasdasdasdasdasdasdasdasdasdasdasdasdasdasdasdasdasdasdasdasdasdasdasdasdasdasdasdasdasdasdasdasdasdasdasdasdasdasdasdasdasdasdasdasdasdasdasdasdasdasdasdasdasdasdasdasdasdasdasdasdasdasdasdasdasdasdasdasdasdasdasdasdasdasdasdasdasdasdasdasdasdasdasdasdasdasdasdasdasdasd'"
      ]
     },
     "execution_count": 2,
     "metadata": {},
     "output_type": "execute_result"
    }
   ],
   "source": [
    "123 * \"asd\""
   ]
  }
 ],
 "metadata": {
  "kernelspec": {
   "display_name": "Python 3.9.12 ('base')",
   "language": "python",
   "name": "python3"
  },
  "language_info": {
   "codemirror_mode": {
    "name": "ipython",
    "version": 3
   },
   "file_extension": ".py",
   "mimetype": "text/x-python",
   "name": "python",
   "nbconvert_exporter": "python",
   "pygments_lexer": "ipython3",
   "version": "3.9.12"
  },
  "vscode": {
   "interpreter": {
    "hash": "e4af6128c7e0808fede432f38729c473c5b0d80882e83c469acdb54455c56396"
   }
  }
 },
 "nbformat": 4,
 "nbformat_minor": 2
}
